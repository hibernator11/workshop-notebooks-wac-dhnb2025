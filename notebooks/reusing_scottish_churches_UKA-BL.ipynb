{
 "cells": [
  {
   "cell_type": "markdown",
   "id": "755872d0-a89e-4be7-a67c-643af407b8ee",
   "metadata": {},
   "source": [
    "# Let's reuse the content\n",
    "\n",
    "This notebook shows how to reuse the text extracted from the [UK Web Archive](https://bl.iro.bl.uk/collections/5379d014-1774-46e1-a96a-7089e7c814a3). In particular, this notebook is based on the dataset [Scottish Churches](https://bl.iro.bl.uk/concern/datasets/d99a9777-0c28-4a2c-b0f4-c7a43f836b48\n",
    ") to compute the frequency distribution of words."
   ]
  },
  {
   "cell_type": "code",
   "execution_count": 1,
   "id": "6b822edc-2058-4c0d-a22b-bbb22c44e5d8",
   "metadata": {},
   "outputs": [
    {
     "name": "stderr",
     "output_type": "stream",
     "text": [
      "[nltk_data] Downloading package punkt to /home/gustavo/nltk_data...\n",
      "[nltk_data]   Package punkt is already up-to-date!\n",
      "[nltk_data] Downloading package punkt_tab to\n",
      "[nltk_data]     /home/gustavo/nltk_data...\n",
      "[nltk_data]   Package punkt_tab is already up-to-date!\n",
      "[nltk_data] Downloading package stopwords to\n",
      "[nltk_data]     /home/gustavo/nltk_data...\n",
      "[nltk_data]   Package stopwords is already up-to-date!\n"
     ]
    }
   ],
   "source": [
    "import nltk\n",
    "nltk.download('punkt')\n",
    "nltk.download('punkt_tab')\n",
    "nltk.download('stopwords')\n",
    "from nltk.tokenize import word_tokenize\n",
    "from nltk.tokenize import sent_tokenize\n",
    "from nltk.corpus import stopwords\n",
    "from nltk.probability import FreqDist\n",
    "import matplotlib.pyplot as plt\n",
    "import string\n",
    "import pandas as pd"
   ]
  },
  {
   "cell_type": "markdown",
   "id": "a51b5415-9c6d-46e8-8ad6-fa1ddadc490e",
   "metadata": {},
   "source": [
    "### We open the CSV file using the URL of the dataset"
   ]
  },
  {
   "cell_type": "code",
   "execution_count": 3,
   "id": "95cd832d-f5ab-4522-87d7-175d71ffb469",
   "metadata": {},
   "outputs": [
    {
     "name": "stdout",
     "output_type": "stream",
     "text": [
      "      Higher Level Collection  Collection ID Collection or Subsection Name  \\\n",
      "0                         NaN           1230             Scottish Churches   \n",
      "1                         NaN           1230             Scottish Churches   \n",
      "2                         NaN           1230             Scottish Churches   \n",
      "3                         NaN           1230             Scottish Churches   \n",
      "4                         NaN           1230             Scottish Churches   \n",
      "...                       ...            ...                           ...   \n",
      "2861                      NaN           1230             Scottish Churches   \n",
      "2862                      NaN           1230             Scottish Churches   \n",
      "2863                      NaN           1230             Scottish Churches   \n",
      "2864                      NaN           1230             Scottish Churches   \n",
      "2865                      NaN           1230             Scottish Churches   \n",
      "\n",
      "     Main Collection or Subsection             Date Created  Record ID  \\\n",
      "0                  Main Collection  2018-03-01 15:42:03.902      61892   \n",
      "1                  Main Collection  2018-03-01 10:22:09.845      61877   \n",
      "2                  Main Collection  2018-03-01 09:53:49.698      61873   \n",
      "3                  Main Collection  2018-03-01 09:26:52.266      61870   \n",
      "4                  Main Collection  2018-03-01 10:05:03.936      61875   \n",
      "...                            ...                      ...        ...   \n",
      "2861               Main Collection  2023-07-12 14:07:10.302     188623   \n",
      "2862               Main Collection  2023-07-18 12:17:01.893     189062   \n",
      "2863               Main Collection  2023-07-19 11:14:57.908     189150   \n",
      "2864               Main Collection  2023-07-19 13:10:00.439     189172   \n",
      "2865               Main Collection  2023-07-19 14:44:21.863     189197   \n",
      "\n",
      "                                      Primary Seed  \\\n",
      "0                http://bridgetonstfrancis.org.uk/   \n",
      "1      http://www.west-kirk-polbeth-harwood.co.uk/   \n",
      "2      http://www.whithorn-stninianspriory.org.uk/   \n",
      "3       http://www.williamwoodparishchurch.org.uk/   \n",
      "4     http://www.whitburnsouthparishchurch.org.uk/   \n",
      "...                                            ...   \n",
      "2861              https://www.kingshillparish.com/   \n",
      "2862             https://www.facebook.com/phdcofc/   \n",
      "2863                   https://www.westmearns.com/   \n",
      "2864                 http://www.zionpeterhead.com/   \n",
      "2865           https://www.mountzionquarriers.org/   \n",
      "\n",
      "                                    Title of Target  \\\n",
      "0                  Bridgeton St Francis in the East   \n",
      "1          Polbeth Harwood with West Kirk of Calder   \n",
      "2     St. Ninian's Priory Parish Church of Scotland   \n",
      "3                         Williamwood Parish Church   \n",
      "4                      Whitburn South Parish Church   \n",
      "...                                             ...   \n",
      "2861            Kingshill Parish Church of Scotland   \n",
      "2862         Peterhead Church Of Christ on Facebook   \n",
      "2863          West Mearns Parish Church of Scotland   \n",
      "2864                                    Zion Church   \n",
      "2865            Mount Zion Church Quarriers Village   \n",
      "\n",
      "                                            Description Language  \\\n",
      "0     Site of a Church of Scotland parish church Bri...       EN   \n",
      "1     Site of two linked Church of Scotland parish c...       EN   \n",
      "2     Site of a Church of Scotland parish church at ...       EN   \n",
      "3     Site of a Church of Scotland parish church in ...       EN   \n",
      "4     Site of a Church of Scotland parish church at ...       EN   \n",
      "...                                                 ...      ...   \n",
      "2861  Site of a Church of Scotland parish church in ...       EN   \n",
      "2862  Facebook page of a church in Peterhead, Aberde...       EN   \n",
      "2863  Site of a group of Church of Scotland parish c...       EN   \n",
      "2864  Site of an independent Pentecostal church in P...       EN   \n",
      "2865  Site of an independent evangelical church, Bri...       EN   \n",
      "\n",
      "     Licence Status  LD Criteria  Institution ID                  Updated  \\\n",
      "0           PENDING        False               3  2018-07-04 07:10:13.348   \n",
      "1           PENDING        False               3  2018-07-04 07:10:21.453   \n",
      "2           PENDING        False               3  2018-07-04 07:11:08.433   \n",
      "3               NaN        False               3  2018-07-04 07:13:05.359   \n",
      "4           PENDING        False               3  2018-07-04 07:12:10.810   \n",
      "...             ...          ...             ...                      ...   \n",
      "2861  NOT_INITIATED        False               3  2023-07-12 14:21:07.512   \n",
      "2862  NOT_INITIATED        False               3  2023-07-18 12:27:54.633   \n",
      "2863  NOT_INITIATED        False               3  2023-07-19 11:17:08.598   \n",
      "2864  NOT_INITIATED        False               3  2023-07-19 13:16:53.031   \n",
      "2865  NOT_INITIATED        False               3  2023-07-19 14:59:15.210   \n",
      "\n",
      "             Depth Scope Robots.txt Crawl Frequency         Crawl Start Date  \\\n",
      "0     CAPPED_LARGE  root        NaN          ANNUAL  2018-03-02 09:00:00.000   \n",
      "1     CAPPED_LARGE  root       True          ANNUAL  2018-03-02 09:00:00.000   \n",
      "2           CAPPED  root       True          ANNUAL  2018-03-02 09:00:00.000   \n",
      "3     CAPPED_LARGE  root       True          ANNUAL  2018-03-02 09:00:00.000   \n",
      "4     CAPPED_LARGE  root        NaN          ANNUAL  2018-03-02 09:00:00.000   \n",
      "...            ...   ...        ...             ...                      ...   \n",
      "2861  CAPPED_LARGE  root       True          ANNUAL  2023-07-13 09:00:00.000   \n",
      "2862  CAPPED_LARGE  root      False      SIXMONTHLY  2023-07-19 09:00:00.000   \n",
      "2863  CAPPED_LARGE  root       True          ANNUAL  2023-07-20 09:00:00.000   \n",
      "2864  CAPPED_LARGE  root       True          ANNUAL  2023-07-20 09:00:00.000   \n",
      "2865  CAPPED_LARGE  root      False          ANNUAL  2023-07-20 09:00:00.000   \n",
      "\n",
      "     Crawl End Date  \n",
      "0               NaN  \n",
      "1               NaN  \n",
      "2               NaN  \n",
      "3               NaN  \n",
      "4               NaN  \n",
      "...             ...  \n",
      "2861            NaN  \n",
      "2862            NaN  \n",
      "2863            NaN  \n",
      "2864            NaN  \n",
      "2865            NaN  \n",
      "\n",
      "[2866 rows x 20 columns]\n"
     ]
    }
   ],
   "source": [
    "# assigning url to a variable\n",
    "url=\"https://bl.iro.bl.uk/downloads/4dc4ea7b-8506-4d25-8efd-534a104a8834\"\n",
    " \n",
    "# passing parameter to the function\n",
    "data =pd.read_csv(url)\n",
    "print(data)"
   ]
  },
  {
   "cell_type": "code",
   "execution_count": 5,
   "id": "3f1f0342-ea6a-460c-8699-375dc3e7f47a",
   "metadata": {},
   "outputs": [
    {
     "name": "stdout",
     "output_type": "stream",
     "text": [
      "Index(['Higher Level Collection', 'Collection ID',\n",
      "       'Collection or Subsection Name', 'Main Collection or Subsection',\n",
      "       'Date Created', 'Record ID', 'Primary Seed', 'Title of Target',\n",
      "       'Description', 'Language', 'Licence Status', 'LD Criteria',\n",
      "       'Institution ID', 'Updated', 'Depth', 'Scope', 'Robots.txt',\n",
      "       'Crawl Frequency', 'Crawl Start Date', 'Crawl End Date'],\n",
      "      dtype='object')\n"
     ]
    }
   ],
   "source": [
    "# Get column names\n",
    "column_names = data.columns\n",
    "print(column_names)"
   ]
  },
  {
   "cell_type": "markdown",
   "id": "453d9694-a887-43ef-86fe-2a8c5605b51f",
   "metadata": {},
   "source": [
    "#### Now we concatenate the text provided by the column Description"
   ]
  },
  {
   "cell_type": "code",
   "execution_count": 8,
   "id": "85bc358d-34cb-4852-9ac9-251dcd661247",
   "metadata": {},
   "outputs": [],
   "source": [
    "description = data[\"Description\"]\n",
    "text = description.str.cat(sep=' ')\n",
    "#print(text)"
   ]
  },
  {
   "cell_type": "markdown",
   "id": "1a8eeab1-0b36-490f-97f6-d940f918f3ff",
   "metadata": {},
   "source": [
    "### We create split the text into tokens"
   ]
  },
  {
   "cell_type": "code",
   "execution_count": 9,
   "id": "947570da-4043-4b98-804b-06d95bd529e9",
   "metadata": {},
   "outputs": [],
   "source": [
    "text_tokens = word_tokenize(text)"
   ]
  },
  {
   "cell_type": "markdown",
   "id": "db0cb0be-6ccf-421d-8ae7-2d3946ed57d2",
   "metadata": {},
   "source": [
    "### We can improve the stopwords list with our own words"
   ]
  },
  {
   "cell_type": "code",
   "execution_count": 10,
   "id": "fa76db75-007e-48a3-a7ec-7ba16be7044b",
   "metadata": {},
   "outputs": [
    {
     "name": "stdout",
     "output_type": "stream",
     "text": [
      "198\n",
      "230\n",
      "237\n"
     ]
    }
   ],
   "source": [
    "stop_words = stopwords.words('english')\n",
    "print(len(stop_words))\n",
    "stop_words = stopwords.words('english') + list(string.punctuation)\n",
    "print(len(stop_words))\n",
    "stop_words.extend(['...', ',,', '-', '–','“','”','’'])\n",
    "print(len(stop_words))"
   ]
  },
  {
   "cell_type": "code",
   "execution_count": 11,
   "id": "17c4398b-e0f8-4001-8d78-3b1605088cc5",
   "metadata": {},
   "outputs": [],
   "source": [
    "filtered_words = [word.lower() for word in text_tokens if word.lower() not in stop_words]\n",
    "#print(filtered_words)"
   ]
  },
  {
   "cell_type": "markdown",
   "id": "2133f0e1-72e4-416c-855e-1ffc3a5d6555",
   "metadata": {},
   "source": [
    "### We can compute the frequency distribution\n",
    "\n",
    "A frequency distribution records the number of times each outcome of an experiment has occurred. For example, a frequency distribution could be used to record the frequency of each word type in a document.\n"
   ]
  },
  {
   "cell_type": "code",
   "execution_count": 12,
   "id": "426618f6-f0d7-4966-bbfb-59a2f8f65c5d",
   "metadata": {},
   "outputs": [
    {
     "name": "stdout",
     "output_type": "stream",
     "text": [
      "<FreqDist with 2374 samples and 25187 outcomes>\n"
     ]
    }
   ],
   "source": [
    "fdist = FreqDist(filtered_words)\n",
    "print(fdist)"
   ]
  },
  {
   "cell_type": "code",
   "execution_count": 13,
   "id": "c39f799e-4ab2-4128-873e-981e48afcca2",
   "metadata": {},
   "outputs": [
    {
     "data": {
      "text/plain": [
       "[('church', 3204),\n",
       " ('site', 1967),\n",
       " ('located', 1440),\n",
       " ('scottish', 1128),\n",
       " ('christian', 1123),\n",
       " ('scotland', 1018),\n",
       " ('parish', 986),\n",
       " ('denomination', 596),\n",
       " ('congregation', 401),\n",
       " ('page', 351)]"
      ]
     },
     "execution_count": 13,
     "metadata": {},
     "output_type": "execute_result"
    }
   ],
   "source": [
    "fdist.most_common(10)"
   ]
  },
  {
   "cell_type": "code",
   "execution_count": 14,
   "id": "476757d7-b85c-400d-b3fa-d81ce50e524d",
   "metadata": {},
   "outputs": [
    {
     "data": {
      "image/png": "[encoded data removed]",
      "text/plain": [
       "<Figure size 640x480 with 1 Axes>"
      ]
     },
     "metadata": {},
     "output_type": "display_data"
    }
   ],
   "source": [
    "# Frequency Distribution Plot\n",
    "fdist.plot(30)\n",
    "plt.show()"
   ]
  }
 ],
 "metadata": {
  "kernelspec": {
   "display_name": "Python [conda env:base] *",
   "language": "python",
   "name": "conda-base-py"
  },
  "language_info": {
   "codemirror_mode": {
    "name": "ipython",
    "version": 3
   },
   "file_extension": ".py",
   "mimetype": "text/x-python",
   "name": "python",
   "nbconvert_exporter": "python",
   "pygments_lexer": "ipython3",
   "version": "3.11.11"
  }
 },
 "nbformat": 4,
 "nbformat_minor": 5
}
